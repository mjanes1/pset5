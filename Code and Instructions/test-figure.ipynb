{
 "cells": [
  {
   "cell_type": "code",
   "execution_count": 67,
   "metadata": {},
   "outputs": [],
   "source": [
    "import pandas as pd\n",
    "import csv\n",
    "import os\n",
    "\n",
    "os.chdir('/Users/Morgan/Documents/Graduate School/Patient Data')\n",
    "\n",
    "clinical_data = {}\n",
    "mutation_data = {}\n",
    "\n",
    "for i in os.listdir('/Users/Morgan/Documents/Graduate School/Patient Data'):\n",
    "    if \"clinical\" in i:\n",
    "        patient_id = i[0:2]\n",
    "        df = pd.read_csv(i,sep=\"\\t\")\n",
    "        clinical_data[patient_id]=df\n",
    "    if \"frequent-mutations\" in i:\n",
    "        patient_id = i[0:2]\n",
    "        df = pd.read_csv(i,sep=\"\\t\")\n",
    "        mutation_data[patient_id]=df\n",
    "\n",
    "full_list = ['chr1','chr2','chr3','chr4','chr5','chr6','chr7','chr8','chr9','chr10','chr11','chr12','chr13','chr14'\n",
    "             ,'chr15','chr16','chr17','chr18','chr19','chr20','chr21','chr22','chr23','chrX','chrY']\n",
    "\n",
    "patient_dfs = []\n",
    "\n",
    "for i in clinical_data:\n",
    "    patient_id=i\n",
    "    clinical_df = clinical_data[i]\n",
    "    clinical_df=clinical_df.drop(clinical_df.index[1])\n",
    "    clinical_df['Patient ID']=patient_id\n",
    "    clinical_df=clinical_df.set_index('Patient ID')\n",
    "    \n",
    "    chr_list = []\n",
    "    \n",
    "    mutation_df = mutation_data[i]\n",
    "\n",
    "    for i in mutation_df['DNA Change']:\n",
    "        out=i.split(':')\n",
    "        chromosome=out[0]\n",
    "        chr_list.append(chromosome)\n",
    "    \n",
    "    mutation_df['Chromosome']=chr_list\n",
    "\n",
    "    chr_values = mutation_df['Chromosome'].value_counts()\n",
    "    chr_freq = chr_values/len(chr_list)\n",
    "\n",
    "    for i in full_list:\n",
    "        if i not in chr_freq:\n",
    "            chr_freq[i]=0\n",
    "               \n",
    "    freq_df = chr_freq.to_frame()\n",
    "    df_to_add = freq_df.T\n",
    "    df_to_add = df_to_add.set_index(clinical_df.index)\n",
    "    \n",
    "    patient_df = clinical_df.join(df_to_add, how='outer')\n",
    "    patient_df = patient_df.set_index(clinical_df.index)\n",
    "    patient_dfs.append(patient_df)\n",
    "\n",
    "clean_df = pd.DataFrame(columns=patient_df.columns)\n",
    "\n",
    "for i in patient_dfs:\n",
    "    clean_df=clean_df.append(i,sort=True)"
   ]
  },
  {
   "cell_type": "code",
   "execution_count": 68,
   "metadata": {},
   "outputs": [
    {
     "data": {
      "text/plain": [
       "[Text(0,0.5,'Frequency'),\n",
       " Text(0.5,0,'Patient ID'),\n",
       " Text(0.5,1,'Frequency of Mutations in Chromosome 11')]"
      ]
     },
     "execution_count": 68,
     "metadata": {},
     "output_type": "execute_result"
    },
    {
     "data": {
      "image/png": "[encoded data removed]",
      "text/plain": [
       "<Figure size 432x288 with 1 Axes>"
      ]
     },
     "metadata": {},
     "output_type": "display_data"
    }
   ],
   "source": [
    "import seaborn as sns\n",
    "ax = sns.barplot(x=clean_df.index,y=\"chr11\", data=clean_df)\n",
    "ax.set(xlabel='Patient ID', ylabel='Frequency', title='Frequency of Mutations in Chromosome 11')"
   ]
  },
  {
   "cell_type": "code",
   "execution_count": null,
   "metadata": {},
   "outputs": [],
   "source": []
  }
 ],
 "metadata": {
  "kernelspec": {
   "display_name": "Python 3",
   "language": "python",
   "name": "python3"
  },
  "language_info": {
   "codemirror_mode": {
    "name": "ipython",
    "version": 3
   },
   "file_extension": ".py",
   "mimetype": "text/x-python",
   "name": "python",
   "nbconvert_exporter": "python",
   "pygments_lexer": "ipython3",
   "version": "3.6.5"
  }
 },
 "nbformat": 4,
 "nbformat_minor": 2
}
